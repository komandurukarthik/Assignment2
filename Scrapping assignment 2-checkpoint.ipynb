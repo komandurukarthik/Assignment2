{
 "cells": [
  {
   "cell_type": "code",
   "execution_count": 1,
   "metadata": {},
   "outputs": [
    {
     "name": "stdout",
     "output_type": "stream",
     "text": [
      "Requirement already satisfied: selenium in c:\\users\\koman\\anaconda3\\lib\\site-packages (3.141.0)\n",
      "Requirement already satisfied: urllib3 in c:\\users\\koman\\anaconda3\\lib\\site-packages (from selenium) (1.25.11)\n"
     ]
    }
   ],
   "source": [
    "!pip install selenium"
   ]
  },
  {
   "cell_type": "markdown",
   "metadata": {},
   "source": [
    "Python program to scrape data for \"DATA ANALYST\" job position in \"BANGALORE LOCATION\" to Scarpe job-title,job-location,company_name,experience_required."
   ]
  },
  {
   "cell_type": "code",
   "execution_count": 2,
   "metadata": {},
   "outputs": [],
   "source": [
    "import selenium\n",
    "import pandas as pd\n",
    "from selenium import webdriver"
   ]
  },
  {
   "cell_type": "code",
   "execution_count": 3,
   "metadata": {},
   "outputs": [],
   "source": [
    "##Connecting to web driver\n",
    "driver=webdriver.Chrome(\"chromedriver.exe\")"
   ]
  },
  {
   "cell_type": "code",
   "execution_count": 4,
   "metadata": {},
   "outputs": [],
   "source": [
    "url=\"https://www.naukri.com/\"\n",
    "driver.get(url)"
   ]
  },
  {
   "cell_type": "code",
   "execution_count": 5,
   "metadata": {},
   "outputs": [
    {
     "data": {
      "text/plain": [
       "<selenium.webdriver.remote.webelement.WebElement (session=\"f2b7721224844470c8c237d847b80625\", element=\"79343cf4-f2cc-4d1b-859b-ffd9e61c0844\")>"
      ]
     },
     "execution_count": 5,
     "metadata": {},
     "output_type": "execute_result"
    }
   ],
   "source": [
    "search_job=driver.find_element_by_id(\"qsb-keyword-sugg\")\n",
    "search_job"
   ]
  },
  {
   "cell_type": "code",
   "execution_count": 6,
   "metadata": {},
   "outputs": [],
   "source": [
    "#Writing on search bar\n",
    "search_job.send_keys(\"Data Scientist\")"
   ]
  },
  {
   "cell_type": "code",
   "execution_count": 7,
   "metadata": {},
   "outputs": [
    {
     "data": {
      "text/plain": [
       "<selenium.webdriver.remote.webelement.WebElement (session=\"f2b7721224844470c8c237d847b80625\", element=\"258b03e2-02ef-461e-b682-70f3dd392d3b\")>"
      ]
     },
     "execution_count": 7,
     "metadata": {},
     "output_type": "execute_result"
    }
   ],
   "source": [
    "#finding element for job location\n",
    "job_location=driver.find_element_by_id(\"qsb-location-sugg\")\n",
    "job_location"
   ]
  },
  {
   "cell_type": "code",
   "execution_count": 8,
   "metadata": {},
   "outputs": [],
   "source": [
    "#Entering the location\n",
    "job_location.send_keys(\"Bangalore\")"
   ]
  },
  {
   "cell_type": "code",
   "execution_count": 9,
   "metadata": {},
   "outputs": [
    {
     "data": {
      "text/plain": [
       "<selenium.webdriver.remote.webelement.WebElement (session=\"f2b7721224844470c8c237d847b80625\", element=\"c65c5ede-3f44-42d6-a835-e2397df9a2b7\")>"
      ]
     },
     "execution_count": 9,
     "metadata": {},
     "output_type": "execute_result"
    }
   ],
   "source": [
    "search_btn=driver.find_element_by_xpath(\"//button[@class='btn']\")\n",
    "search_btn"
   ]
  },
  {
   "cell_type": "code",
   "execution_count": 10,
   "metadata": {},
   "outputs": [],
   "source": [
    "#Clicking on search button\n",
    "search_btn.click()"
   ]
  },
  {
   "cell_type": "code",
   "execution_count": 11,
   "metadata": {},
   "outputs": [
    {
     "data": {
      "text/plain": [
       "[<selenium.webdriver.remote.webelement.WebElement (session=\"f2b7721224844470c8c237d847b80625\", element=\"30edff72-66fe-452c-b6a6-71a0dbaee7c0\")>,\n",
       " <selenium.webdriver.remote.webelement.WebElement (session=\"f2b7721224844470c8c237d847b80625\", element=\"7d1e77d8-84a9-429e-9976-07bd6702e682\")>,\n",
       " <selenium.webdriver.remote.webelement.WebElement (session=\"f2b7721224844470c8c237d847b80625\", element=\"21531220-ec3d-4841-b130-f21b5eb776fa\")>,\n",
       " <selenium.webdriver.remote.webelement.WebElement (session=\"f2b7721224844470c8c237d847b80625\", element=\"1e7bdd6e-eb74-4087-ba37-8cc3f061119d\")>,\n",
       " <selenium.webdriver.remote.webelement.WebElement (session=\"f2b7721224844470c8c237d847b80625\", element=\"273b9422-be19-423e-8214-9d568a5660ce\")>,\n",
       " <selenium.webdriver.remote.webelement.WebElement (session=\"f2b7721224844470c8c237d847b80625\", element=\"526cb1c4-e88b-4ce4-9e0e-c972eae65bdd\")>,\n",
       " <selenium.webdriver.remote.webelement.WebElement (session=\"f2b7721224844470c8c237d847b80625\", element=\"11af7fe0-97e6-4bea-a03e-40787a21b594\")>,\n",
       " <selenium.webdriver.remote.webelement.WebElement (session=\"f2b7721224844470c8c237d847b80625\", element=\"dd016377-a41b-42b9-b430-707c292295da\")>,\n",
       " <selenium.webdriver.remote.webelement.WebElement (session=\"f2b7721224844470c8c237d847b80625\", element=\"17800f83-9af0-49a5-b9a0-4d8294c6151e\")>,\n",
       " <selenium.webdriver.remote.webelement.WebElement (session=\"f2b7721224844470c8c237d847b80625\", element=\"60628f07-7c5b-42ad-9e99-ec9e0a025c29\")>,\n",
       " <selenium.webdriver.remote.webelement.WebElement (session=\"f2b7721224844470c8c237d847b80625\", element=\"985e1893-2570-48f0-91ae-51d8a92c3257\")>,\n",
       " <selenium.webdriver.remote.webelement.WebElement (session=\"f2b7721224844470c8c237d847b80625\", element=\"82db0bcc-7a8a-4c92-94fa-a8119a767a99\")>,\n",
       " <selenium.webdriver.remote.webelement.WebElement (session=\"f2b7721224844470c8c237d847b80625\", element=\"46531a58-b98f-4e4a-8d58-8ea3f4b02968\")>,\n",
       " <selenium.webdriver.remote.webelement.WebElement (session=\"f2b7721224844470c8c237d847b80625\", element=\"7cd63317-bbbf-4ee7-bc9d-cb29010ee09a\")>,\n",
       " <selenium.webdriver.remote.webelement.WebElement (session=\"f2b7721224844470c8c237d847b80625\", element=\"fddc951f-7581-443f-9a2d-f631939efc14\")>,\n",
       " <selenium.webdriver.remote.webelement.WebElement (session=\"f2b7721224844470c8c237d847b80625\", element=\"273ad463-7e67-4941-a2e2-da7033ee1c20\")>,\n",
       " <selenium.webdriver.remote.webelement.WebElement (session=\"f2b7721224844470c8c237d847b80625\", element=\"58edcbaf-1f43-4ac0-9a90-64c13e66cdce\")>,\n",
       " <selenium.webdriver.remote.webelement.WebElement (session=\"f2b7721224844470c8c237d847b80625\", element=\"f9fafe14-8b1d-43ed-9f5d-6857a83b1bd6\")>,\n",
       " <selenium.webdriver.remote.webelement.WebElement (session=\"f2b7721224844470c8c237d847b80625\", element=\"166b7120-0ef7-4dcc-bfb3-00a9dc1c433b\")>,\n",
       " <selenium.webdriver.remote.webelement.WebElement (session=\"f2b7721224844470c8c237d847b80625\", element=\"4890bfc7-59bb-419f-bbb2-cff1a2fc4f6c\")>]"
      ]
     },
     "execution_count": 11,
     "metadata": {},
     "output_type": "execute_result"
    }
   ],
   "source": [
    "#Let us scrap the Job titles first\n",
    "titles_tag=driver.find_elements_by_xpath(\"//a[@class='title fw500 ellipsis']\")\n",
    "titles_tag"
   ]
  },
  {
   "cell_type": "code",
   "execution_count": 12,
   "metadata": {},
   "outputs": [
    {
     "data": {
      "text/plain": [
       "['Data Scientist- Senior Business Analyst/Lead Analyst',\n",
       " 'Senior Data Scientist',\n",
       " 'Senior Data Scientist (Analytics),',\n",
       " 'Data Scientist: Advanced Analytics',\n",
       " 'Data Scientist',\n",
       " 'Senior Data Scientist',\n",
       " 'Lead Data Scientist',\n",
       " 'Senior Data Scientist',\n",
       " 'Senior Data Scientist - KPO',\n",
       " 'Senior Data Scientist',\n",
       " 'Lead Data Scientist - Retail Industry',\n",
       " 'Senior/ Lead Data Scientist',\n",
       " 'Advanced Data Scientist',\n",
       " 'Data Scientist',\n",
       " 'Data Scientist with SAS',\n",
       " 'Data Scientist',\n",
       " 'Data Scientist- Natural Language Processing (Hyderabad Location)',\n",
       " 'Looking For Data Scientist For Chennai Location',\n",
       " 'Data Scientist',\n",
       " 'Data Scientist']"
      ]
     },
     "execution_count": 12,
     "metadata": {},
     "output_type": "execute_result"
    }
   ],
   "source": [
    "#Now let us scrap the text from the web elements\n",
    "job_titles=[]\n",
    "for i in titles_tag:\n",
    "    job_titles.append(i.text)\n",
    "job_titles"
   ]
  },
  {
   "cell_type": "code",
   "execution_count": 13,
   "metadata": {},
   "outputs": [
    {
     "data": {
      "text/plain": [
       "[<selenium.webdriver.remote.webelement.WebElement (session=\"f2b7721224844470c8c237d847b80625\", element=\"0239c24a-fdc4-4094-aee5-c6c841c9ee60\")>,\n",
       " <selenium.webdriver.remote.webelement.WebElement (session=\"f2b7721224844470c8c237d847b80625\", element=\"d625a295-5686-4e4d-87aa-e448502ec789\")>,\n",
       " <selenium.webdriver.remote.webelement.WebElement (session=\"f2b7721224844470c8c237d847b80625\", element=\"3821c88b-fabf-4169-a6d4-cb958126f5f1\")>,\n",
       " <selenium.webdriver.remote.webelement.WebElement (session=\"f2b7721224844470c8c237d847b80625\", element=\"69bcd90c-48dd-4a24-812b-c654b1366f3c\")>,\n",
       " <selenium.webdriver.remote.webelement.WebElement (session=\"f2b7721224844470c8c237d847b80625\", element=\"5a545445-a658-4e02-b01d-8049e8bc090b\")>,\n",
       " <selenium.webdriver.remote.webelement.WebElement (session=\"f2b7721224844470c8c237d847b80625\", element=\"9a4ea604-37f7-49ed-8ca1-c2cc675de5d6\")>,\n",
       " <selenium.webdriver.remote.webelement.WebElement (session=\"f2b7721224844470c8c237d847b80625\", element=\"44c7cc51-5fcf-4f3f-8ff6-9df02e5e99e2\")>,\n",
       " <selenium.webdriver.remote.webelement.WebElement (session=\"f2b7721224844470c8c237d847b80625\", element=\"b45dcdec-4405-4e62-a42d-4d54982c3456\")>,\n",
       " <selenium.webdriver.remote.webelement.WebElement (session=\"f2b7721224844470c8c237d847b80625\", element=\"319d6b4a-a302-4f95-b60a-b49c63c5e666\")>,\n",
       " <selenium.webdriver.remote.webelement.WebElement (session=\"f2b7721224844470c8c237d847b80625\", element=\"f8e0987e-b38e-476c-9d9c-73f2441630fa\")>,\n",
       " <selenium.webdriver.remote.webelement.WebElement (session=\"f2b7721224844470c8c237d847b80625\", element=\"5248934f-76db-4a21-85f0-c00996e6f428\")>,\n",
       " <selenium.webdriver.remote.webelement.WebElement (session=\"f2b7721224844470c8c237d847b80625\", element=\"0a4cf3f9-92be-485a-952f-4ad980eab5fe\")>,\n",
       " <selenium.webdriver.remote.webelement.WebElement (session=\"f2b7721224844470c8c237d847b80625\", element=\"4c71383d-cc0a-4165-b5ad-be8a2574f76c\")>,\n",
       " <selenium.webdriver.remote.webelement.WebElement (session=\"f2b7721224844470c8c237d847b80625\", element=\"d26d593f-d153-4659-92df-8e8ab12a4b30\")>,\n",
       " <selenium.webdriver.remote.webelement.WebElement (session=\"f2b7721224844470c8c237d847b80625\", element=\"6c263768-48c6-45e7-afb1-ec300e38cd7b\")>,\n",
       " <selenium.webdriver.remote.webelement.WebElement (session=\"f2b7721224844470c8c237d847b80625\", element=\"9ae655be-3b8a-465f-bf0e-6c2745c87c24\")>,\n",
       " <selenium.webdriver.remote.webelement.WebElement (session=\"f2b7721224844470c8c237d847b80625\", element=\"62f9d7bd-3de0-4002-9951-9c3eca454f24\")>,\n",
       " <selenium.webdriver.remote.webelement.WebElement (session=\"f2b7721224844470c8c237d847b80625\", element=\"d43c95e8-52ad-48bf-86ac-070345dc70d1\")>,\n",
       " <selenium.webdriver.remote.webelement.WebElement (session=\"f2b7721224844470c8c237d847b80625\", element=\"24df7bee-5f59-4531-b14b-c3662f2dc080\")>,\n",
       " <selenium.webdriver.remote.webelement.WebElement (session=\"f2b7721224844470c8c237d847b80625\", element=\"fe0548b4-0add-4864-a19c-74bf2a247c68\")>]"
      ]
     },
     "execution_count": 13,
     "metadata": {},
     "output_type": "execute_result"
    }
   ],
   "source": [
    "loc_tag=driver.find_elements_by_xpath(\"//li[@class='fleft grey-text br2 placeHolderLi location']\")\n",
    "loc_tag"
   ]
  },
  {
   "cell_type": "code",
   "execution_count": 14,
   "metadata": {},
   "outputs": [
    {
     "data": {
      "text/plain": [
       "['Gurgaon/Gurugram, Bangalore/Bengaluru',\n",
       " 'Bangalore/Bengaluru',\n",
       " 'Bangalore/Bengaluru',\n",
       " 'Bangalore/Bengaluru',\n",
       " 'Bangalore/Bengaluru',\n",
       " 'Bangalore/Bengaluru',\n",
       " 'Bangalore/Bengaluru, Delhi / NCR, Mumbai (All Areas)\\n(WFH during Covid)',\n",
       " 'Bangalore/Bengaluru',\n",
       " 'Mumbai, Bangalore/Bengaluru, Delhi / NCR',\n",
       " 'Mumbai, Delhi / NCR, Bangalore/Bengaluru',\n",
       " 'Bangalore/Bengaluru',\n",
       " 'Bangalore/Bengaluru',\n",
       " 'Bangalore/Bengaluru',\n",
       " 'Bangalore/Bengaluru',\n",
       " 'Bangalore/Bengaluru',\n",
       " 'Bangalore/Bengaluru',\n",
       " 'Hyderabad/Secunderabad, Pune, Chennai, Bangalore/Bengaluru',\n",
       " 'Hyderabad/Secunderabad, Chennai, Bangalore/Bengaluru',\n",
       " 'Bangalore/Bengaluru',\n",
       " 'Chennai, Bangalore/Bengaluru']"
      ]
     },
     "execution_count": 14,
     "metadata": {},
     "output_type": "execute_result"
    }
   ],
   "source": [
    "Location=[]\n",
    "for i in loc_tag:\n",
    "    Location.append(i.text)\n",
    "Location"
   ]
  },
  {
   "cell_type": "code",
   "execution_count": 15,
   "metadata": {},
   "outputs": [
    {
     "data": {
      "text/plain": [
       "['Evalueserve.com Pvt. Ltd',\n",
       " 'Signify',\n",
       " 'Luxoft',\n",
       " 'IBM India Pvt. Limited',\n",
       " 'IBM India Pvt. Limited',\n",
       " 'SMITHS DETECTION SYSTEMS PRIVATE LIMITED',\n",
       " 'TransOrg Solutions Services (P) Ltd.',\n",
       " 'Philips India Limited',\n",
       " 'TalentCo Search Pvt Ltd',\n",
       " 'TalentCo Search Pvt Ltd',\n",
       " 'IBM India Pvt. Limited',\n",
       " 'Superior Group',\n",
       " 'Exxon Mobil Corporation',\n",
       " 'Travel Centric Technology',\n",
       " 'Mu Sigma',\n",
       " 'Cignex Datamatics Technologies Limited',\n",
       " 'Clifford Chance Business Services Private Limited',\n",
       " 'Intelizign Engineering Services Pvt Ltd',\n",
       " 'ELPIS IT SOLUTIONS PVT LTD',\n",
       " 'Cognizant Technology Solutions India Pvt Ltd']"
      ]
     },
     "execution_count": 15,
     "metadata": {},
     "output_type": "execute_result"
    }
   ],
   "source": [
    "comp_tag=driver.find_elements_by_xpath(\"//a[@class='subTitle ellipsis fleft']\")\n",
    "comp_name=[]\n",
    "for i in comp_tag:\n",
    "    comp_name.append(i.text)\n",
    "comp_name"
   ]
  },
  {
   "cell_type": "code",
   "execution_count": 16,
   "metadata": {},
   "outputs": [],
   "source": [
    "exp_tag=driver.find_elements_by_xpath(\"//li[@class='fleft grey-text br2 placeHolderLi experience']\")\n",
    "ex_tag=[]\n",
    "for i in exp_tag:\n",
    "    ex_tag.append(i.text)"
   ]
  },
  {
   "cell_type": "code",
   "execution_count": 17,
   "metadata": {},
   "outputs": [
    {
     "data": {
      "text/html": [
       "<div>\n",
       "<style scoped>\n",
       "    .dataframe tbody tr th:only-of-type {\n",
       "        vertical-align: middle;\n",
       "    }\n",
       "\n",
       "    .dataframe tbody tr th {\n",
       "        vertical-align: top;\n",
       "    }\n",
       "\n",
       "    .dataframe thead th {\n",
       "        text-align: right;\n",
       "    }\n",
       "</style>\n",
       "<table border=\"1\" class=\"dataframe\">\n",
       "  <thead>\n",
       "    <tr style=\"text-align: right;\">\n",
       "      <th></th>\n",
       "      <th>Title</th>\n",
       "      <th>Job location</th>\n",
       "      <th>Company name</th>\n",
       "      <th>Experience</th>\n",
       "    </tr>\n",
       "  </thead>\n",
       "  <tbody>\n",
       "    <tr>\n",
       "      <th>0</th>\n",
       "      <td>Data Scientist- Senior Business Analyst/Lead A...</td>\n",
       "      <td>Gurgaon/Gurugram, Bangalore/Bengaluru</td>\n",
       "      <td>Evalueserve.com Pvt. Ltd</td>\n",
       "      <td>2-7 Yrs</td>\n",
       "    </tr>\n",
       "    <tr>\n",
       "      <th>1</th>\n",
       "      <td>Senior Data Scientist</td>\n",
       "      <td>Bangalore/Bengaluru</td>\n",
       "      <td>Signify</td>\n",
       "      <td>4-9 Yrs</td>\n",
       "    </tr>\n",
       "    <tr>\n",
       "      <th>2</th>\n",
       "      <td>Senior Data Scientist (Analytics),</td>\n",
       "      <td>Bangalore/Bengaluru</td>\n",
       "      <td>Luxoft</td>\n",
       "      <td>5-10 Yrs</td>\n",
       "    </tr>\n",
       "    <tr>\n",
       "      <th>3</th>\n",
       "      <td>Data Scientist: Advanced Analytics</td>\n",
       "      <td>Bangalore/Bengaluru</td>\n",
       "      <td>IBM India Pvt. Limited</td>\n",
       "      <td>5-10 Yrs</td>\n",
       "    </tr>\n",
       "    <tr>\n",
       "      <th>4</th>\n",
       "      <td>Data Scientist</td>\n",
       "      <td>Bangalore/Bengaluru</td>\n",
       "      <td>IBM India Pvt. Limited</td>\n",
       "      <td>3-6 Yrs</td>\n",
       "    </tr>\n",
       "    <tr>\n",
       "      <th>5</th>\n",
       "      <td>Senior Data Scientist</td>\n",
       "      <td>Bangalore/Bengaluru</td>\n",
       "      <td>SMITHS DETECTION SYSTEMS PRIVATE LIMITED</td>\n",
       "      <td>8-10 Yrs</td>\n",
       "    </tr>\n",
       "    <tr>\n",
       "      <th>6</th>\n",
       "      <td>Lead Data Scientist</td>\n",
       "      <td>Bangalore/Bengaluru, Delhi / NCR, Mumbai (All ...</td>\n",
       "      <td>TransOrg Solutions Services (P) Ltd.</td>\n",
       "      <td>4-6 Yrs</td>\n",
       "    </tr>\n",
       "    <tr>\n",
       "      <th>7</th>\n",
       "      <td>Senior Data Scientist</td>\n",
       "      <td>Bangalore/Bengaluru</td>\n",
       "      <td>Philips India Limited</td>\n",
       "      <td>8-10 Yrs</td>\n",
       "    </tr>\n",
       "    <tr>\n",
       "      <th>8</th>\n",
       "      <td>Senior Data Scientist - KPO</td>\n",
       "      <td>Mumbai, Bangalore/Bengaluru, Delhi / NCR</td>\n",
       "      <td>TalentCo Search Pvt Ltd</td>\n",
       "      <td>6-10 Yrs</td>\n",
       "    </tr>\n",
       "    <tr>\n",
       "      <th>9</th>\n",
       "      <td>Senior Data Scientist</td>\n",
       "      <td>Mumbai, Delhi / NCR, Bangalore/Bengaluru</td>\n",
       "      <td>TalentCo Search Pvt Ltd</td>\n",
       "      <td>6-10 Yrs</td>\n",
       "    </tr>\n",
       "  </tbody>\n",
       "</table>\n",
       "</div>"
      ],
      "text/plain": [
       "                                               Title  \\\n",
       "0  Data Scientist- Senior Business Analyst/Lead A...   \n",
       "1                              Senior Data Scientist   \n",
       "2                 Senior Data Scientist (Analytics),   \n",
       "3                 Data Scientist: Advanced Analytics   \n",
       "4                                     Data Scientist   \n",
       "5                              Senior Data Scientist   \n",
       "6                                Lead Data Scientist   \n",
       "7                              Senior Data Scientist   \n",
       "8                        Senior Data Scientist - KPO   \n",
       "9                              Senior Data Scientist   \n",
       "\n",
       "                                        Job location  \\\n",
       "0              Gurgaon/Gurugram, Bangalore/Bengaluru   \n",
       "1                                Bangalore/Bengaluru   \n",
       "2                                Bangalore/Bengaluru   \n",
       "3                                Bangalore/Bengaluru   \n",
       "4                                Bangalore/Bengaluru   \n",
       "5                                Bangalore/Bengaluru   \n",
       "6  Bangalore/Bengaluru, Delhi / NCR, Mumbai (All ...   \n",
       "7                                Bangalore/Bengaluru   \n",
       "8           Mumbai, Bangalore/Bengaluru, Delhi / NCR   \n",
       "9           Mumbai, Delhi / NCR, Bangalore/Bengaluru   \n",
       "\n",
       "                               Company name Experience  \n",
       "0                  Evalueserve.com Pvt. Ltd    2-7 Yrs  \n",
       "1                                   Signify    4-9 Yrs  \n",
       "2                                    Luxoft   5-10 Yrs  \n",
       "3                    IBM India Pvt. Limited   5-10 Yrs  \n",
       "4                    IBM India Pvt. Limited    3-6 Yrs  \n",
       "5  SMITHS DETECTION SYSTEMS PRIVATE LIMITED   8-10 Yrs  \n",
       "6      TransOrg Solutions Services (P) Ltd.    4-6 Yrs  \n",
       "7                     Philips India Limited   8-10 Yrs  \n",
       "8                   TalentCo Search Pvt Ltd   6-10 Yrs  \n",
       "9                   TalentCo Search Pvt Ltd   6-10 Yrs  "
      ]
     },
     "execution_count": 17,
     "metadata": {},
     "output_type": "execute_result"
    }
   ],
   "source": [
    "naukri=pd.DataFrame()\n",
    "naukri['Title']=job_titles[:10]\n",
    "naukri['Job location']=Location[:10]\n",
    "naukri['Company name']=comp_name[:10]\n",
    "naukri['Experience']=ex_tag[:10]\n",
    "naukri"
   ]
  },
  {
   "cell_type": "markdown",
   "metadata": {},
   "source": [
    "Python program to scarpe data from Naukri.com for Bangalore location which includes job-title,job-location,company_name,full job-description."
   ]
  },
  {
   "cell_type": "code",
   "execution_count": 18,
   "metadata": {},
   "outputs": [],
   "source": [
    "url=\"https://www.naukri.com/\"\n",
    "driver.get(url)"
   ]
  },
  {
   "cell_type": "code",
   "execution_count": 19,
   "metadata": {},
   "outputs": [],
   "source": [
    "#searching for job\n",
    "search_job=driver.find_element_by_id(\"qsb-keyword-sugg\")"
   ]
  },
  {
   "cell_type": "code",
   "execution_count": 20,
   "metadata": {},
   "outputs": [],
   "source": [
    "#writing on Job search bar\n",
    "search_job.send_keys(\"Data Scientist\")"
   ]
  },
  {
   "cell_type": "code",
   "execution_count": 21,
   "metadata": {},
   "outputs": [],
   "source": [
    "#finding element of Job location\n",
    "job_location=driver.find_element_by_id(\"qsb-location-sugg\")\n",
    "#Entering the location\n",
    "job_location.send_keys(\"Bangalore\")\n",
    "#Getting element of Search button\n",
    "search_btn=driver.find_element_by_xpath(\"//button[@class='btn']\")\n",
    "#Clicking on search button\n",
    "search_btn.click()"
   ]
  },
  {
   "cell_type": "code",
   "execution_count": 22,
   "metadata": {},
   "outputs": [],
   "source": [
    "#Getting job titles\n",
    "titles_tag=driver.find_elements_by_xpath(\"//a[@class='title fw500 ellipsis']\")\n",
    "job_titles=[]\n",
    "for i in titles_tag:\n",
    "    job_titles.append(i.text)\n",
    "#Getting locations\n",
    "loc_tag=driver.find_elements_by_xpath(\"//li[@class='fleft grey-text br2 placeHolderLi location']\")\n",
    "Location=[]\n",
    "for i in loc_tag:\n",
    "    Location.append(i.text)\n",
    "#Getting company name\n",
    "comp_tag=driver.find_elements_by_xpath(\"//a[@class='subTitle ellipsis fleft']\")\n",
    "comp_name=[]\n",
    "for i in comp_tag:\n",
    "    comp_name.append(i.text)"
   ]
  },
  {
   "cell_type": "code",
   "execution_count": 23,
   "metadata": {},
   "outputs": [],
   "source": [
    "#Getting job Description\n",
    "url=driver.find_elements_by_xpath(\"//a[@class='title fw500 ellipsis']\")\n",
    "job_desc=[]\n",
    "for i in url:\n",
    "    job_desc.append(i.get_attribute('href'))"
   ]
  },
  {
   "cell_type": "code",
   "execution_count": 24,
   "metadata": {},
   "outputs": [],
   "source": [
    "job_description=[]\n",
    "for i in job_desc:\n",
    "    driver.get(i)\n",
    "    try:\n",
    "        job_desc1=driver.find_element_by_xpath(\"//div[@class='dang-inner-html']\")\n",
    "        job_description.append(job_desc1.text)\n",
    "    except:\n",
    "        pass"
   ]
  },
  {
   "cell_type": "code",
   "execution_count": 25,
   "metadata": {},
   "outputs": [
    {
     "data": {
      "text/html": [
       "<div>\n",
       "<style scoped>\n",
       "    .dataframe tbody tr th:only-of-type {\n",
       "        vertical-align: middle;\n",
       "    }\n",
       "\n",
       "    .dataframe tbody tr th {\n",
       "        vertical-align: top;\n",
       "    }\n",
       "\n",
       "    .dataframe thead th {\n",
       "        text-align: right;\n",
       "    }\n",
       "</style>\n",
       "<table border=\"1\" class=\"dataframe\">\n",
       "  <thead>\n",
       "    <tr style=\"text-align: right;\">\n",
       "      <th></th>\n",
       "      <th>Titles</th>\n",
       "      <th>Job_location</th>\n",
       "      <th>Company name</th>\n",
       "      <th>Description</th>\n",
       "    </tr>\n",
       "  </thead>\n",
       "  <tbody>\n",
       "    <tr>\n",
       "      <th>0</th>\n",
       "      <td>Data Scientist- Senior Business Analyst/Lead A...</td>\n",
       "      <td>Gurgaon/Gurugram, Bangalore/Bengaluru</td>\n",
       "      <td>Evalueserve.com Pvt. Ltd</td>\n",
       "      <td>Job Description\\nUnderstand and design analyti...</td>\n",
       "    </tr>\n",
       "    <tr>\n",
       "      <th>1</th>\n",
       "      <td>Senior Data Scientist</td>\n",
       "      <td>Bangalore/Bengaluru</td>\n",
       "      <td>Signify</td>\n",
       "      <td>What you ll do\\nResearch, design and prototype...</td>\n",
       "    </tr>\n",
       "    <tr>\n",
       "      <th>2</th>\n",
       "      <td>Senior Data Scientist (Analytics),</td>\n",
       "      <td>Bangalore/Bengaluru</td>\n",
       "      <td>Luxoft</td>\n",
       "      <td>Data and Analytics Proposal Responses for Cr...</td>\n",
       "    </tr>\n",
       "    <tr>\n",
       "      <th>3</th>\n",
       "      <td>Data Scientist: Advanced Analytics</td>\n",
       "      <td>Bangalore/Bengaluru</td>\n",
       "      <td>IBM India Pvt. Limited</td>\n",
       "      <td>Roles and Responsibilities\\n\\nWell-versed in q...</td>\n",
       "    </tr>\n",
       "    <tr>\n",
       "      <th>4</th>\n",
       "      <td>Data Scientist</td>\n",
       "      <td>Bangalore/Bengaluru</td>\n",
       "      <td>IBM India Pvt. Limited</td>\n",
       "      <td>Be a part of the Enterprise IT , Information...</td>\n",
       "    </tr>\n",
       "    <tr>\n",
       "      <th>5</th>\n",
       "      <td>Senior Data Scientist</td>\n",
       "      <td>Bangalore/Bengaluru</td>\n",
       "      <td>SMITHS DETECTION SYSTEMS PRIVATE LIMITED</td>\n",
       "      <td>- Ability to understand a problem statement an...</td>\n",
       "    </tr>\n",
       "    <tr>\n",
       "      <th>6</th>\n",
       "      <td>Lead Data Scientist</td>\n",
       "      <td>Bangalore/Bengaluru, Delhi / NCR, Mumbai (All ...</td>\n",
       "      <td>TransOrg Solutions Services (P) Ltd.</td>\n",
       "      <td>- Ability to understand a problem statement an...</td>\n",
       "    </tr>\n",
       "    <tr>\n",
       "      <th>7</th>\n",
       "      <td>Senior Data Scientist</td>\n",
       "      <td>Bangalore/Bengaluru</td>\n",
       "      <td>Philips India Limited</td>\n",
       "      <td>Provide advanced analytical capabilities to su...</td>\n",
       "    </tr>\n",
       "    <tr>\n",
       "      <th>8</th>\n",
       "      <td>Senior Data Scientist - KPO</td>\n",
       "      <td>Mumbai, Bangalore/Bengaluru, Delhi / NCR</td>\n",
       "      <td>TalentCo Search Pvt Ltd</td>\n",
       "      <td>Job Role Responsibilities\\nBe a part of a grow...</td>\n",
       "    </tr>\n",
       "    <tr>\n",
       "      <th>9</th>\n",
       "      <td>Senior Data Scientist</td>\n",
       "      <td>Mumbai, Delhi / NCR, Bangalore/Bengaluru</td>\n",
       "      <td>TalentCo Search Pvt Ltd</td>\n",
       "      <td>We are looking for a Data Scientist with 6+ ye...</td>\n",
       "    </tr>\n",
       "  </tbody>\n",
       "</table>\n",
       "</div>"
      ],
      "text/plain": [
       "                                              Titles  \\\n",
       "0  Data Scientist- Senior Business Analyst/Lead A...   \n",
       "1                              Senior Data Scientist   \n",
       "2                 Senior Data Scientist (Analytics),   \n",
       "3                 Data Scientist: Advanced Analytics   \n",
       "4                                     Data Scientist   \n",
       "5                              Senior Data Scientist   \n",
       "6                                Lead Data Scientist   \n",
       "7                              Senior Data Scientist   \n",
       "8                        Senior Data Scientist - KPO   \n",
       "9                              Senior Data Scientist   \n",
       "\n",
       "                                        Job_location  \\\n",
       "0              Gurgaon/Gurugram, Bangalore/Bengaluru   \n",
       "1                                Bangalore/Bengaluru   \n",
       "2                                Bangalore/Bengaluru   \n",
       "3                                Bangalore/Bengaluru   \n",
       "4                                Bangalore/Bengaluru   \n",
       "5                                Bangalore/Bengaluru   \n",
       "6  Bangalore/Bengaluru, Delhi / NCR, Mumbai (All ...   \n",
       "7                                Bangalore/Bengaluru   \n",
       "8           Mumbai, Bangalore/Bengaluru, Delhi / NCR   \n",
       "9           Mumbai, Delhi / NCR, Bangalore/Bengaluru   \n",
       "\n",
       "                               Company name  \\\n",
       "0                  Evalueserve.com Pvt. Ltd   \n",
       "1                                   Signify   \n",
       "2                                    Luxoft   \n",
       "3                    IBM India Pvt. Limited   \n",
       "4                    IBM India Pvt. Limited   \n",
       "5  SMITHS DETECTION SYSTEMS PRIVATE LIMITED   \n",
       "6      TransOrg Solutions Services (P) Ltd.   \n",
       "7                     Philips India Limited   \n",
       "8                   TalentCo Search Pvt Ltd   \n",
       "9                   TalentCo Search Pvt Ltd   \n",
       "\n",
       "                                         Description  \n",
       "0  Job Description\\nUnderstand and design analyti...  \n",
       "1  What you ll do\\nResearch, design and prototype...  \n",
       "2    Data and Analytics Proposal Responses for Cr...  \n",
       "3  Roles and Responsibilities\\n\\nWell-versed in q...  \n",
       "4    Be a part of the Enterprise IT , Information...  \n",
       "5  - Ability to understand a problem statement an...  \n",
       "6  - Ability to understand a problem statement an...  \n",
       "7  Provide advanced analytical capabilities to su...  \n",
       "8  Job Role Responsibilities\\nBe a part of a grow...  \n",
       "9  We are looking for a Data Scientist with 6+ ye...  "
      ]
     },
     "execution_count": 25,
     "metadata": {},
     "output_type": "execute_result"
    }
   ],
   "source": [
    "ban_details=pd.DataFrame()\n",
    "ban_details['Titles']=job_titles[:10]\n",
    "ban_details['Job_location']=Location[:10]\n",
    "ban_details['Company name']=comp_name[:10]\n",
    "ban_details['Description']=job_description[:10]\n",
    "ban_details"
   ]
  },
  {
   "cell_type": "markdown",
   "metadata": {},
   "source": [
    "Python program to scarpe the data using filters"
   ]
  },
  {
   "cell_type": "code",
   "execution_count": 26,
   "metadata": {},
   "outputs": [],
   "source": [
    "url=\"https://www.naukri.com/\"\n",
    "driver.get(url)"
   ]
  },
  {
   "cell_type": "code",
   "execution_count": 27,
   "metadata": {},
   "outputs": [],
   "source": [
    "#Getting element for Job search\n",
    "search_job=driver.find_element_by_id(\"qsb-keyword-sugg\")\n",
    "#Writing on search bar\n",
    "search_job.send_keys(\"Data Scientist\")\n",
    "search_btn=driver.find_element_by_xpath(\"//button[@class='btn']\")\n",
    "#Clicking on search button\n",
    "search_btn.click()"
   ]
  },
  {
   "cell_type": "code",
   "execution_count": 28,
   "metadata": {},
   "outputs": [],
   "source": [
    "##Selecting the DELHI/NCR FILTER\n",
    "Loc=driver.find_element_by_xpath(\"/html/body/div[1]/div[3]/div[2]/section[1]/div[2]/div[3]/div[2]/div[3]/label/p/span[1]\")\n",
    "Loc.click()"
   ]
  },
  {
   "cell_type": "code",
   "execution_count": 29,
   "metadata": {},
   "outputs": [],
   "source": [
    "pac=driver.find_element_by_xpath(\"/html/body/div[1]/div[3]/div[2]/section[1]/div[2]/div[4]/div[2]/div[2]/label/p/span[1]\")\n",
    "pac.click()"
   ]
  },
  {
   "cell_type": "code",
   "execution_count": 30,
   "metadata": {},
   "outputs": [],
   "source": [
    "#Getting job titles\n",
    "titles_tag=driver.find_elements_by_xpath(\"//a[@class='title fw500 ellipsis']\")\n",
    "job_titles=[]\n",
    "for i in titles_tag:\n",
    "    job_titles.append(i.text)\n",
    "#Getting locations\n",
    "loc_tag=driver.find_elements_by_xpath(\"//li[@class='fleft grey-text br2 placeHolderLi location']\")\n",
    "Location=[]\n",
    "for i in loc_tag:\n",
    "    Location.append(i.text)\n",
    "#Getting company name\n",
    "comp_tag=driver.find_elements_by_xpath(\"//a[@class='subTitle ellipsis fleft']\")\n",
    "comp_name=[]\n",
    "for i in comp_tag:\n",
    "    comp_name.append(i.text)\n",
    "#Getting experience\n",
    "exp=driver.find_elements_by_xpath(\"//li[@class='fleft grey-text br2 placeHolderLi experience']\")\n",
    "req_exp=[]\n",
    "for i in exp:\n",
    "    req_exp.append(i.text)"
   ]
  },
  {
   "cell_type": "code",
   "execution_count": 31,
   "metadata": {},
   "outputs": [
    {
     "data": {
      "text/html": [
       "<div>\n",
       "<style scoped>\n",
       "    .dataframe tbody tr th:only-of-type {\n",
       "        vertical-align: middle;\n",
       "    }\n",
       "\n",
       "    .dataframe tbody tr th {\n",
       "        vertical-align: top;\n",
       "    }\n",
       "\n",
       "    .dataframe thead th {\n",
       "        text-align: right;\n",
       "    }\n",
       "</style>\n",
       "<table border=\"1\" class=\"dataframe\">\n",
       "  <thead>\n",
       "    <tr style=\"text-align: right;\">\n",
       "      <th></th>\n",
       "      <th>Job TITLE</th>\n",
       "      <th>Job Location</th>\n",
       "      <th>Company name</th>\n",
       "      <th>Experience</th>\n",
       "    </tr>\n",
       "  </thead>\n",
       "  <tbody>\n",
       "    <tr>\n",
       "      <th>0</th>\n",
       "      <td>Data Scientist Internship</td>\n",
       "      <td>New Delhi</td>\n",
       "      <td>iHackers Inc</td>\n",
       "      <td>0-1 Yrs</td>\n",
       "    </tr>\n",
       "    <tr>\n",
       "      <th>1</th>\n",
       "      <td>Data Scientist</td>\n",
       "      <td>Gurgaon/Gurugram</td>\n",
       "      <td>CBRE South Asia Pvt Ltd</td>\n",
       "      <td>2-4 Yrs</td>\n",
       "    </tr>\n",
       "    <tr>\n",
       "      <th>2</th>\n",
       "      <td>Data Scientist</td>\n",
       "      <td>Noida, Gurgaon/Gurugram, Delhi / NCR</td>\n",
       "      <td>Agreeya</td>\n",
       "      <td>3-6 Yrs</td>\n",
       "    </tr>\n",
       "    <tr>\n",
       "      <th>3</th>\n",
       "      <td>Data Scientist / Sr. Data Scientist</td>\n",
       "      <td>Noida, Pune, Mumbai (All Areas)</td>\n",
       "      <td>WEGARNER SOLUTIONS PRIVATE LIMITED</td>\n",
       "      <td>0-5 Yrs</td>\n",
       "    </tr>\n",
       "    <tr>\n",
       "      <th>4</th>\n",
       "      <td>Only Fresher / Data Scientist / Data Analyst /...</td>\n",
       "      <td>Noida, Gurgaon/Gurugram, Delhi / NCR</td>\n",
       "      <td>GABA Consultancy services</td>\n",
       "      <td>0-0 Yrs</td>\n",
       "    </tr>\n",
       "    <tr>\n",
       "      <th>5</th>\n",
       "      <td>Data Scientist</td>\n",
       "      <td>Kolkata, Hyderabad/Secunderabad, Ahmedabad, Ba...</td>\n",
       "      <td>Experiture</td>\n",
       "      <td>5-7 Yrs</td>\n",
       "    </tr>\n",
       "    <tr>\n",
       "      <th>6</th>\n",
       "      <td>Data Scientist- Image Processing &amp; Computer Vi...</td>\n",
       "      <td>Delhi / NCR</td>\n",
       "      <td>ProtoGene Consulting Private Limited</td>\n",
       "      <td>4-7 Yrs</td>\n",
       "    </tr>\n",
       "    <tr>\n",
       "      <th>7</th>\n",
       "      <td>Senior Data Scientist - Noida</td>\n",
       "      <td>Noida</td>\n",
       "      <td>Optum Global Solutions (India) Private Limited</td>\n",
       "      <td>2-6 Yrs</td>\n",
       "    </tr>\n",
       "    <tr>\n",
       "      <th>8</th>\n",
       "      <td>Data Scientist</td>\n",
       "      <td>Noida(Sector-59 Noida)</td>\n",
       "      <td>R Systems International Ltd.</td>\n",
       "      <td>5-10 Yrs</td>\n",
       "    </tr>\n",
       "    <tr>\n",
       "      <th>9</th>\n",
       "      <td>Immediate Openings For DATA Scientist with 6 T...</td>\n",
       "      <td>Kolkata, Hyderabad/Secunderabad, Pune, Ahmedab...</td>\n",
       "      <td>Entune IT Consulting Private Limited</td>\n",
       "      <td>5-8 Yrs</td>\n",
       "    </tr>\n",
       "  </tbody>\n",
       "</table>\n",
       "</div>"
      ],
      "text/plain": [
       "                                           Job TITLE  \\\n",
       "0                          Data Scientist Internship   \n",
       "1                                     Data Scientist   \n",
       "2                                     Data Scientist   \n",
       "3                Data Scientist / Sr. Data Scientist   \n",
       "4  Only Fresher / Data Scientist / Data Analyst /...   \n",
       "5                                     Data Scientist   \n",
       "6  Data Scientist- Image Processing & Computer Vi...   \n",
       "7                      Senior Data Scientist - Noida   \n",
       "8                                     Data Scientist   \n",
       "9  Immediate Openings For DATA Scientist with 6 T...   \n",
       "\n",
       "                                        Job Location  \\\n",
       "0                                          New Delhi   \n",
       "1                                   Gurgaon/Gurugram   \n",
       "2               Noida, Gurgaon/Gurugram, Delhi / NCR   \n",
       "3                    Noida, Pune, Mumbai (All Areas)   \n",
       "4               Noida, Gurgaon/Gurugram, Delhi / NCR   \n",
       "5  Kolkata, Hyderabad/Secunderabad, Ahmedabad, Ba...   \n",
       "6                                        Delhi / NCR   \n",
       "7                                              Noida   \n",
       "8                             Noida(Sector-59 Noida)   \n",
       "9  Kolkata, Hyderabad/Secunderabad, Pune, Ahmedab...   \n",
       "\n",
       "                                     Company name Experience  \n",
       "0                                    iHackers Inc    0-1 Yrs  \n",
       "1                         CBRE South Asia Pvt Ltd    2-4 Yrs  \n",
       "2                                         Agreeya    3-6 Yrs  \n",
       "3              WEGARNER SOLUTIONS PRIVATE LIMITED    0-5 Yrs  \n",
       "4                       GABA Consultancy services    0-0 Yrs  \n",
       "5                                      Experiture    5-7 Yrs  \n",
       "6            ProtoGene Consulting Private Limited    4-7 Yrs  \n",
       "7  Optum Global Solutions (India) Private Limited    2-6 Yrs  \n",
       "8                    R Systems International Ltd.   5-10 Yrs  \n",
       "9            Entune IT Consulting Private Limited    5-8 Yrs  "
      ]
     },
     "execution_count": 31,
     "metadata": {},
     "output_type": "execute_result"
    }
   ],
   "source": [
    "filter_detail=pd.DataFrame()\n",
    "filter_detail['Job TITLE']=job_titles[:10]\n",
    "filter_detail['Job Location']=Location[:10]\n",
    "filter_detail['Company name']=comp_name[:10]\n",
    "filter_detail['Experience']=req_exp[:10]\n",
    "filter_detail"
   ]
  },
  {
   "cell_type": "markdown",
   "metadata": {},
   "source": [
    "Python program to Scrape data from Glassdoor website for Datascientist designation in Noida location which includes company_name,No.of days ago when job was posted,Rating of the company."
   ]
  },
  {
   "cell_type": "code",
   "execution_count": 32,
   "metadata": {},
   "outputs": [],
   "source": [
    "url=\"https://www.glassdoor.co.in/index.html\"\n",
    "driver.get(url)"
   ]
  },
  {
   "cell_type": "markdown",
   "metadata": {},
   "source": [
    "Not able to login to the Glassdoor portal so skipping 4 and 5 questions"
   ]
  },
  {
   "cell_type": "code",
   "execution_count": 34,
   "metadata": {},
   "outputs": [],
   "source": [
    "url=\"https://www.flipkart.com\"\n",
    "driver.get(url)"
   ]
  },
  {
   "cell_type": "code",
   "execution_count": 37,
   "metadata": {},
   "outputs": [],
   "source": [
    "#Getting element for item search\n",
    "search_item=driver.find_element_by_xpath(\"//input[@class='_3704LK']\")\n",
    "#Writing on search bar\n",
    "search_item.send_keys(\"Sun glasses\")\n",
    "search_btn=driver.find_element_by_xpath(\"//button[@class='L0Z3Pu']\")\n",
    "#Clicking on search button\n",
    "search_btn.click()"
   ]
  },
  {
   "cell_type": "code",
   "execution_count": 42,
   "metadata": {},
   "outputs": [],
   "source": [
    "First_brands=driver.find_elements_by_xpath(\"//div[@class='_2WkVRV']\")\n",
    "brands=[]\n",
    "for i in First_brands:\n",
    "    brands.append(i.text)"
   ]
  },
  {
   "cell_type": "code",
   "execution_count": 45,
   "metadata": {},
   "outputs": [
    {
     "ename": "TypeError",
     "evalue": "'WebElement' object is not iterable",
     "output_type": "error",
     "traceback": [
      "\u001b[1;31m---------------------------------------------------------------------------\u001b[0m",
      "\u001b[1;31mTypeError\u001b[0m                                 Traceback (most recent call last)",
      "\u001b[1;32m<ipython-input-45-7efa85284c18>\u001b[0m in \u001b[0;36m<module>\u001b[1;34m\u001b[0m\n\u001b[0;32m      1\u001b[0m \u001b[0murls\u001b[0m\u001b[1;33m=\u001b[0m\u001b[1;33m[\u001b[0m\u001b[1;33m]\u001b[0m\u001b[1;33m\u001b[0m\u001b[1;33m\u001b[0m\u001b[0m\n\u001b[1;32m----> 2\u001b[1;33m \u001b[1;32mfor\u001b[0m \u001b[0mi\u001b[0m \u001b[1;32min\u001b[0m \u001b[0mdriver\u001b[0m\u001b[1;33m.\u001b[0m\u001b[0mfind_element_by_xpath\u001b[0m\u001b[1;33m(\u001b[0m\u001b[1;34m\"//a[@class='ge-49M']\"\u001b[0m\u001b[1;33m)\u001b[0m\u001b[1;33m:\u001b[0m\u001b[1;33m\u001b[0m\u001b[1;33m\u001b[0m\u001b[0m\n\u001b[0m\u001b[0;32m      3\u001b[0m     \u001b[0murls\u001b[0m\u001b[1;33m.\u001b[0m\u001b[0mappend\u001b[0m\u001b[1;33m(\u001b[0m\u001b[0mi\u001b[0m\u001b[1;33m.\u001b[0m\u001b[0mget_attribute\u001b[0m\u001b[1;33m(\u001b[0m\u001b[1;34m\"href\"\u001b[0m\u001b[1;33m)\u001b[0m\u001b[1;33m)\u001b[0m\u001b[1;33m\u001b[0m\u001b[1;33m\u001b[0m\u001b[0m\n",
      "\u001b[1;31mTypeError\u001b[0m: 'WebElement' object is not iterable"
     ]
    }
   ],
   "source": [
    "urls=[]\n",
    "for i in driver.find_element_by_xpath(\"//a[@class='ge-49M']\"):\n",
    "    urls.append(i.get_attribute(\"href\"))"
   ]
  },
  {
   "cell_type": "code",
   "execution_count": null,
   "metadata": {},
   "outputs": [],
   "source": []
  }
 ],
 "metadata": {
  "kernelspec": {
   "display_name": "Python 3",
   "language": "python",
   "name": "python3"
  },
  "language_info": {
   "codemirror_mode": {
    "name": "ipython",
    "version": 3
   },
   "file_extension": ".py",
   "mimetype": "text/x-python",
   "name": "python",
   "nbconvert_exporter": "python",
   "pygments_lexer": "ipython3",
   "version": "3.8.5"
  }
 },
 "nbformat": 4,
 "nbformat_minor": 4
}
